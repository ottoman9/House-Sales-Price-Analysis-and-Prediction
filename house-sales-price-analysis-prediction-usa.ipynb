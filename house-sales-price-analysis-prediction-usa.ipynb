{
 "cells": [
  {
   "cell_type": "markdown",
   "id": "2bfbab4b",
   "metadata": {
    "papermill": {
     "duration": 0.007631,
     "end_time": "2023-10-10T09:06:17.636488",
     "exception": false,
     "start_time": "2023-10-10T09:06:17.628857",
     "status": "completed"
    },
    "tags": []
   },
   "source": [
    "## PROJECT TITLE: **House Sales in King County USA**"
   ]
  },
  {
   "cell_type": "markdown",
   "id": "b67e4a48",
   "metadata": {
    "papermill": {
     "duration": 0.006974,
     "end_time": "2023-10-10T09:06:17.650660",
     "exception": false,
     "start_time": "2023-10-10T09:06:17.643686",
     "status": "completed"
    },
    "tags": []
   },
   "source": [
    "### **PART 1: IMPORTING DATA SETS**"
   ]
  },
  {
   "cell_type": "code",
   "execution_count": 1,
   "id": "cbde3802",
   "metadata": {
    "execution": {
     "iopub.execute_input": "2023-10-10T09:06:17.667482Z",
     "iopub.status.busy": "2023-10-10T09:06:17.666800Z",
     "iopub.status.idle": "2023-10-10T09:06:20.535205Z",
     "shell.execute_reply": "2023-10-10T09:06:20.534099Z"
    },
    "papermill": {
     "duration": 2.880456,
     "end_time": "2023-10-10T09:06:20.538297",
     "exception": false,
     "start_time": "2023-10-10T09:06:17.657841",
     "status": "completed"
    },
    "tags": []
   },
   "outputs": [],
   "source": [
    "#Import needed libraries\n",
    "import pandas as pd\n",
    "import numpy as np\n",
    "from sklearn.linear_model import LinearRegression\n",
    "from sklearn.preprocessing import PolynomialFeatures, StandardScaler\n",
    "from sklearn.pipeline import Pipeline\n",
    "import matplotlib as plt\n",
    "import seaborn as sns\n",
    "%matplotlib inline"
   ]
  },
  {
   "cell_type": "code",
   "execution_count": 2,
   "id": "041a8f7b",
   "metadata": {
    "execution": {
     "iopub.execute_input": "2023-10-10T09:06:20.556966Z",
     "iopub.status.busy": "2023-10-10T09:06:20.555195Z",
     "iopub.status.idle": "2023-10-10T09:06:20.706465Z",
     "shell.execute_reply": "2023-10-10T09:06:20.704748Z"
    },
    "papermill": {
     "duration": 0.162917,
     "end_time": "2023-10-10T09:06:20.709078",
     "exception": false,
     "start_time": "2023-10-10T09:06:20.546161",
     "status": "completed"
    },
    "tags": []
   },
   "outputs": [
    {
     "name": "stdout",
     "output_type": "stream",
     "text": [
      "/kaggle/working\n"
     ]
    }
   ],
   "source": [
    "import os\n",
    "print(os.getcwd())\n",
    "#Specify the file path\n",
    "Path = \"/kaggle/input/house-prices-in-king-county-usa/kc_house_data_NaN.csv\"\n",
    "#Read the file\n",
    "df = pd.read_csv(Path)"
   ]
  },
  {
   "cell_type": "markdown",
   "id": "0e0f6ccc",
   "metadata": {
    "papermill": {
     "duration": 0.013186,
     "end_time": "2023-10-10T09:06:20.734812",
     "exception": false,
     "start_time": "2023-10-10T09:06:20.721626",
     "status": "completed"
    },
    "tags": []
   },
   "source": [
    "**NOTE: **\n",
    "\n",
    "IN SOME CASES - YOU MIGHT NOT BE ABLE TO ACCESS THE FILE ONLINE AND THEREFORE TRY TO ACCES LOCALLY. IN THAT CASE YOU MAY GET MULTIPLE ERRORS. FIRST TRY TO REPLACE THE BACKSLASH WITH FORWARD SLASH IN FILE PATH. SECOND SAVE THE JUPYTER NOTEBOOK IN THE SAME DIRECTORY AS THAT FILE. IN THIS WAY THE ERROR - FILE NOT FOUND - WON'T HAPPEN. ABOVE CODE CAN BE USED."
   ]
  },
  {
   "cell_type": "code",
   "execution_count": 3,
   "id": "5ba61543",
   "metadata": {
    "execution": {
     "iopub.execute_input": "2023-10-10T09:06:20.764902Z",
     "iopub.status.busy": "2023-10-10T09:06:20.764200Z",
     "iopub.status.idle": "2023-10-10T09:06:21.011058Z",
     "shell.execute_reply": "2023-10-10T09:06:21.009359Z"
    },
    "papermill": {
     "duration": 0.265514,
     "end_time": "2023-10-10T09:06:21.013889",
     "exception": false,
     "start_time": "2023-10-10T09:06:20.748375",
     "status": "completed"
    },
    "tags": []
   },
   "outputs": [],
   "source": [
    "#Loading data\n",
    "df.to_csv('house_prices.csv')"
   ]
  },
  {
   "cell_type": "code",
   "execution_count": 4,
   "id": "fb975486",
   "metadata": {
    "execution": {
     "iopub.execute_input": "2023-10-10T09:06:21.032014Z",
     "iopub.status.busy": "2023-10-10T09:06:21.030739Z",
     "iopub.status.idle": "2023-10-10T09:06:21.073255Z",
     "shell.execute_reply": "2023-10-10T09:06:21.071740Z"
    },
    "papermill": {
     "duration": 0.054439,
     "end_time": "2023-10-10T09:06:21.076013",
     "exception": false,
     "start_time": "2023-10-10T09:06:21.021574",
     "status": "completed"
    },
    "tags": []
   },
   "outputs": [
    {
     "data": {
      "text/html": [
       "<div>\n",
       "<style scoped>\n",
       "    .dataframe tbody tr th:only-of-type {\n",
       "        vertical-align: middle;\n",
       "    }\n",
       "\n",
       "    .dataframe tbody tr th {\n",
       "        vertical-align: top;\n",
       "    }\n",
       "\n",
       "    .dataframe thead th {\n",
       "        text-align: right;\n",
       "    }\n",
       "</style>\n",
       "<table border=\"1\" class=\"dataframe\">\n",
       "  <thead>\n",
       "    <tr style=\"text-align: right;\">\n",
       "      <th></th>\n",
       "      <th>Unnamed: 0</th>\n",
       "      <th>id</th>\n",
       "      <th>date</th>\n",
       "      <th>price</th>\n",
       "      <th>bedrooms</th>\n",
       "      <th>bathrooms</th>\n",
       "      <th>sqft_living</th>\n",
       "      <th>sqft_lot</th>\n",
       "      <th>floors</th>\n",
       "      <th>waterfront</th>\n",
       "      <th>...</th>\n",
       "      <th>grade</th>\n",
       "      <th>sqft_above</th>\n",
       "      <th>sqft_basement</th>\n",
       "      <th>yr_built</th>\n",
       "      <th>yr_renovated</th>\n",
       "      <th>zipcode</th>\n",
       "      <th>lat</th>\n",
       "      <th>long</th>\n",
       "      <th>sqft_living15</th>\n",
       "      <th>sqft_lot15</th>\n",
       "    </tr>\n",
       "  </thead>\n",
       "  <tbody>\n",
       "    <tr>\n",
       "      <th>0</th>\n",
       "      <td>0</td>\n",
       "      <td>7129300520</td>\n",
       "      <td>20141013T000000</td>\n",
       "      <td>221900.0</td>\n",
       "      <td>3.0</td>\n",
       "      <td>1.00</td>\n",
       "      <td>1180</td>\n",
       "      <td>5650</td>\n",
       "      <td>1.0</td>\n",
       "      <td>0</td>\n",
       "      <td>...</td>\n",
       "      <td>7</td>\n",
       "      <td>1180</td>\n",
       "      <td>0</td>\n",
       "      <td>1955</td>\n",
       "      <td>0</td>\n",
       "      <td>98178</td>\n",
       "      <td>47.5112</td>\n",
       "      <td>-122.257</td>\n",
       "      <td>1340</td>\n",
       "      <td>5650</td>\n",
       "    </tr>\n",
       "    <tr>\n",
       "      <th>1</th>\n",
       "      <td>1</td>\n",
       "      <td>6414100192</td>\n",
       "      <td>20141209T000000</td>\n",
       "      <td>538000.0</td>\n",
       "      <td>3.0</td>\n",
       "      <td>2.25</td>\n",
       "      <td>2570</td>\n",
       "      <td>7242</td>\n",
       "      <td>2.0</td>\n",
       "      <td>0</td>\n",
       "      <td>...</td>\n",
       "      <td>7</td>\n",
       "      <td>2170</td>\n",
       "      <td>400</td>\n",
       "      <td>1951</td>\n",
       "      <td>1991</td>\n",
       "      <td>98125</td>\n",
       "      <td>47.7210</td>\n",
       "      <td>-122.319</td>\n",
       "      <td>1690</td>\n",
       "      <td>7639</td>\n",
       "    </tr>\n",
       "    <tr>\n",
       "      <th>2</th>\n",
       "      <td>2</td>\n",
       "      <td>5631500400</td>\n",
       "      <td>20150225T000000</td>\n",
       "      <td>180000.0</td>\n",
       "      <td>2.0</td>\n",
       "      <td>1.00</td>\n",
       "      <td>770</td>\n",
       "      <td>10000</td>\n",
       "      <td>1.0</td>\n",
       "      <td>0</td>\n",
       "      <td>...</td>\n",
       "      <td>6</td>\n",
       "      <td>770</td>\n",
       "      <td>0</td>\n",
       "      <td>1933</td>\n",
       "      <td>0</td>\n",
       "      <td>98028</td>\n",
       "      <td>47.7379</td>\n",
       "      <td>-122.233</td>\n",
       "      <td>2720</td>\n",
       "      <td>8062</td>\n",
       "    </tr>\n",
       "    <tr>\n",
       "      <th>3</th>\n",
       "      <td>3</td>\n",
       "      <td>2487200875</td>\n",
       "      <td>20141209T000000</td>\n",
       "      <td>604000.0</td>\n",
       "      <td>4.0</td>\n",
       "      <td>3.00</td>\n",
       "      <td>1960</td>\n",
       "      <td>5000</td>\n",
       "      <td>1.0</td>\n",
       "      <td>0</td>\n",
       "      <td>...</td>\n",
       "      <td>7</td>\n",
       "      <td>1050</td>\n",
       "      <td>910</td>\n",
       "      <td>1965</td>\n",
       "      <td>0</td>\n",
       "      <td>98136</td>\n",
       "      <td>47.5208</td>\n",
       "      <td>-122.393</td>\n",
       "      <td>1360</td>\n",
       "      <td>5000</td>\n",
       "    </tr>\n",
       "  </tbody>\n",
       "</table>\n",
       "<p>4 rows × 22 columns</p>\n",
       "</div>"
      ],
      "text/plain": [
       "   Unnamed: 0          id             date     price  bedrooms  bathrooms  \\\n",
       "0           0  7129300520  20141013T000000  221900.0       3.0       1.00   \n",
       "1           1  6414100192  20141209T000000  538000.0       3.0       2.25   \n",
       "2           2  5631500400  20150225T000000  180000.0       2.0       1.00   \n",
       "3           3  2487200875  20141209T000000  604000.0       4.0       3.00   \n",
       "\n",
       "   sqft_living  sqft_lot  floors  waterfront  ...  grade  sqft_above  \\\n",
       "0         1180      5650     1.0           0  ...      7        1180   \n",
       "1         2570      7242     2.0           0  ...      7        2170   \n",
       "2          770     10000     1.0           0  ...      6         770   \n",
       "3         1960      5000     1.0           0  ...      7        1050   \n",
       "\n",
       "   sqft_basement  yr_built  yr_renovated  zipcode      lat     long  \\\n",
       "0              0      1955             0    98178  47.5112 -122.257   \n",
       "1            400      1951          1991    98125  47.7210 -122.319   \n",
       "2              0      1933             0    98028  47.7379 -122.233   \n",
       "3            910      1965             0    98136  47.5208 -122.393   \n",
       "\n",
       "   sqft_living15  sqft_lot15  \n",
       "0           1340        5650  \n",
       "1           1690        7639  \n",
       "2           2720        8062  \n",
       "3           1360        5000  \n",
       "\n",
       "[4 rows x 22 columns]"
      ]
     },
     "execution_count": 4,
     "metadata": {},
     "output_type": "execute_result"
    }
   ],
   "source": [
    "#Read the data\n",
    "df.head(4)"
   ]
  },
  {
   "cell_type": "code",
   "execution_count": 5,
   "id": "dd26a421",
   "metadata": {
    "execution": {
     "iopub.execute_input": "2023-10-10T09:06:21.093872Z",
     "iopub.status.busy": "2023-10-10T09:06:21.093396Z",
     "iopub.status.idle": "2023-10-10T09:06:21.103170Z",
     "shell.execute_reply": "2023-10-10T09:06:21.101676Z"
    },
    "papermill": {
     "duration": 0.021935,
     "end_time": "2023-10-10T09:06:21.105666",
     "exception": false,
     "start_time": "2023-10-10T09:06:21.083731",
     "status": "completed"
    },
    "tags": []
   },
   "outputs": [
    {
     "data": {
      "text/plain": [
       "Unnamed: 0         int64\n",
       "id                 int64\n",
       "date              object\n",
       "price            float64\n",
       "bedrooms         float64\n",
       "bathrooms        float64\n",
       "sqft_living        int64\n",
       "sqft_lot           int64\n",
       "floors           float64\n",
       "waterfront         int64\n",
       "view               int64\n",
       "condition          int64\n",
       "grade              int64\n",
       "sqft_above         int64\n",
       "sqft_basement      int64\n",
       "yr_built           int64\n",
       "yr_renovated       int64\n",
       "zipcode            int64\n",
       "lat              float64\n",
       "long             float64\n",
       "sqft_living15      int64\n",
       "sqft_lot15         int64\n",
       "dtype: object"
      ]
     },
     "execution_count": 5,
     "metadata": {},
     "output_type": "execute_result"
    }
   ],
   "source": [
    "#See datatypes of each column to see where to make changes\n",
    "df.dtypes"
   ]
  },
  {
   "cell_type": "code",
   "execution_count": 6,
   "id": "c81fdfd9",
   "metadata": {
    "execution": {
     "iopub.execute_input": "2023-10-10T09:06:21.124265Z",
     "iopub.status.busy": "2023-10-10T09:06:21.123596Z",
     "iopub.status.idle": "2023-10-10T09:06:21.214169Z",
     "shell.execute_reply": "2023-10-10T09:06:21.212642Z"
    },
    "papermill": {
     "duration": 0.103571,
     "end_time": "2023-10-10T09:06:21.217085",
     "exception": false,
     "start_time": "2023-10-10T09:06:21.113514",
     "status": "completed"
    },
    "tags": []
   },
   "outputs": [
    {
     "data": {
      "text/html": [
       "<div>\n",
       "<style scoped>\n",
       "    .dataframe tbody tr th:only-of-type {\n",
       "        vertical-align: middle;\n",
       "    }\n",
       "\n",
       "    .dataframe tbody tr th {\n",
       "        vertical-align: top;\n",
       "    }\n",
       "\n",
       "    .dataframe thead th {\n",
       "        text-align: right;\n",
       "    }\n",
       "</style>\n",
       "<table border=\"1\" class=\"dataframe\">\n",
       "  <thead>\n",
       "    <tr style=\"text-align: right;\">\n",
       "      <th></th>\n",
       "      <th>Unnamed: 0</th>\n",
       "      <th>id</th>\n",
       "      <th>price</th>\n",
       "      <th>bedrooms</th>\n",
       "      <th>bathrooms</th>\n",
       "      <th>sqft_living</th>\n",
       "      <th>sqft_lot</th>\n",
       "      <th>floors</th>\n",
       "      <th>waterfront</th>\n",
       "      <th>view</th>\n",
       "      <th>...</th>\n",
       "      <th>grade</th>\n",
       "      <th>sqft_above</th>\n",
       "      <th>sqft_basement</th>\n",
       "      <th>yr_built</th>\n",
       "      <th>yr_renovated</th>\n",
       "      <th>zipcode</th>\n",
       "      <th>lat</th>\n",
       "      <th>long</th>\n",
       "      <th>sqft_living15</th>\n",
       "      <th>sqft_lot15</th>\n",
       "    </tr>\n",
       "  </thead>\n",
       "  <tbody>\n",
       "    <tr>\n",
       "      <th>count</th>\n",
       "      <td>21613.00000</td>\n",
       "      <td>2.161300e+04</td>\n",
       "      <td>2.161300e+04</td>\n",
       "      <td>21600.000000</td>\n",
       "      <td>21603.000000</td>\n",
       "      <td>21613.000000</td>\n",
       "      <td>2.161300e+04</td>\n",
       "      <td>21613.000000</td>\n",
       "      <td>21613.000000</td>\n",
       "      <td>21613.000000</td>\n",
       "      <td>...</td>\n",
       "      <td>21613.000000</td>\n",
       "      <td>21613.000000</td>\n",
       "      <td>21613.000000</td>\n",
       "      <td>21613.000000</td>\n",
       "      <td>21613.000000</td>\n",
       "      <td>21613.000000</td>\n",
       "      <td>21613.000000</td>\n",
       "      <td>21613.000000</td>\n",
       "      <td>21613.000000</td>\n",
       "      <td>21613.000000</td>\n",
       "    </tr>\n",
       "    <tr>\n",
       "      <th>mean</th>\n",
       "      <td>10806.00000</td>\n",
       "      <td>4.580302e+09</td>\n",
       "      <td>5.400881e+05</td>\n",
       "      <td>3.372870</td>\n",
       "      <td>2.115736</td>\n",
       "      <td>2079.899736</td>\n",
       "      <td>1.510697e+04</td>\n",
       "      <td>1.494309</td>\n",
       "      <td>0.007542</td>\n",
       "      <td>0.234303</td>\n",
       "      <td>...</td>\n",
       "      <td>7.656873</td>\n",
       "      <td>1788.390691</td>\n",
       "      <td>291.509045</td>\n",
       "      <td>1971.005136</td>\n",
       "      <td>84.402258</td>\n",
       "      <td>98077.939805</td>\n",
       "      <td>47.560053</td>\n",
       "      <td>-122.213896</td>\n",
       "      <td>1986.552492</td>\n",
       "      <td>12768.455652</td>\n",
       "    </tr>\n",
       "    <tr>\n",
       "      <th>std</th>\n",
       "      <td>6239.28002</td>\n",
       "      <td>2.876566e+09</td>\n",
       "      <td>3.671272e+05</td>\n",
       "      <td>0.926657</td>\n",
       "      <td>0.768996</td>\n",
       "      <td>918.440897</td>\n",
       "      <td>4.142051e+04</td>\n",
       "      <td>0.539989</td>\n",
       "      <td>0.086517</td>\n",
       "      <td>0.766318</td>\n",
       "      <td>...</td>\n",
       "      <td>1.175459</td>\n",
       "      <td>828.090978</td>\n",
       "      <td>442.575043</td>\n",
       "      <td>29.373411</td>\n",
       "      <td>401.679240</td>\n",
       "      <td>53.505026</td>\n",
       "      <td>0.138564</td>\n",
       "      <td>0.140828</td>\n",
       "      <td>685.391304</td>\n",
       "      <td>27304.179631</td>\n",
       "    </tr>\n",
       "    <tr>\n",
       "      <th>min</th>\n",
       "      <td>0.00000</td>\n",
       "      <td>1.000102e+06</td>\n",
       "      <td>7.500000e+04</td>\n",
       "      <td>1.000000</td>\n",
       "      <td>0.500000</td>\n",
       "      <td>290.000000</td>\n",
       "      <td>5.200000e+02</td>\n",
       "      <td>1.000000</td>\n",
       "      <td>0.000000</td>\n",
       "      <td>0.000000</td>\n",
       "      <td>...</td>\n",
       "      <td>1.000000</td>\n",
       "      <td>290.000000</td>\n",
       "      <td>0.000000</td>\n",
       "      <td>1900.000000</td>\n",
       "      <td>0.000000</td>\n",
       "      <td>98001.000000</td>\n",
       "      <td>47.155900</td>\n",
       "      <td>-122.519000</td>\n",
       "      <td>399.000000</td>\n",
       "      <td>651.000000</td>\n",
       "    </tr>\n",
       "    <tr>\n",
       "      <th>25%</th>\n",
       "      <td>5403.00000</td>\n",
       "      <td>2.123049e+09</td>\n",
       "      <td>3.219500e+05</td>\n",
       "      <td>3.000000</td>\n",
       "      <td>1.750000</td>\n",
       "      <td>1427.000000</td>\n",
       "      <td>5.040000e+03</td>\n",
       "      <td>1.000000</td>\n",
       "      <td>0.000000</td>\n",
       "      <td>0.000000</td>\n",
       "      <td>...</td>\n",
       "      <td>7.000000</td>\n",
       "      <td>1190.000000</td>\n",
       "      <td>0.000000</td>\n",
       "      <td>1951.000000</td>\n",
       "      <td>0.000000</td>\n",
       "      <td>98033.000000</td>\n",
       "      <td>47.471000</td>\n",
       "      <td>-122.328000</td>\n",
       "      <td>1490.000000</td>\n",
       "      <td>5100.000000</td>\n",
       "    </tr>\n",
       "    <tr>\n",
       "      <th>50%</th>\n",
       "      <td>10806.00000</td>\n",
       "      <td>3.904930e+09</td>\n",
       "      <td>4.500000e+05</td>\n",
       "      <td>3.000000</td>\n",
       "      <td>2.250000</td>\n",
       "      <td>1910.000000</td>\n",
       "      <td>7.618000e+03</td>\n",
       "      <td>1.500000</td>\n",
       "      <td>0.000000</td>\n",
       "      <td>0.000000</td>\n",
       "      <td>...</td>\n",
       "      <td>7.000000</td>\n",
       "      <td>1560.000000</td>\n",
       "      <td>0.000000</td>\n",
       "      <td>1975.000000</td>\n",
       "      <td>0.000000</td>\n",
       "      <td>98065.000000</td>\n",
       "      <td>47.571800</td>\n",
       "      <td>-122.230000</td>\n",
       "      <td>1840.000000</td>\n",
       "      <td>7620.000000</td>\n",
       "    </tr>\n",
       "    <tr>\n",
       "      <th>75%</th>\n",
       "      <td>16209.00000</td>\n",
       "      <td>7.308900e+09</td>\n",
       "      <td>6.450000e+05</td>\n",
       "      <td>4.000000</td>\n",
       "      <td>2.500000</td>\n",
       "      <td>2550.000000</td>\n",
       "      <td>1.068800e+04</td>\n",
       "      <td>2.000000</td>\n",
       "      <td>0.000000</td>\n",
       "      <td>0.000000</td>\n",
       "      <td>...</td>\n",
       "      <td>8.000000</td>\n",
       "      <td>2210.000000</td>\n",
       "      <td>560.000000</td>\n",
       "      <td>1997.000000</td>\n",
       "      <td>0.000000</td>\n",
       "      <td>98118.000000</td>\n",
       "      <td>47.678000</td>\n",
       "      <td>-122.125000</td>\n",
       "      <td>2360.000000</td>\n",
       "      <td>10083.000000</td>\n",
       "    </tr>\n",
       "    <tr>\n",
       "      <th>max</th>\n",
       "      <td>21612.00000</td>\n",
       "      <td>9.900000e+09</td>\n",
       "      <td>7.700000e+06</td>\n",
       "      <td>33.000000</td>\n",
       "      <td>8.000000</td>\n",
       "      <td>13540.000000</td>\n",
       "      <td>1.651359e+06</td>\n",
       "      <td>3.500000</td>\n",
       "      <td>1.000000</td>\n",
       "      <td>4.000000</td>\n",
       "      <td>...</td>\n",
       "      <td>13.000000</td>\n",
       "      <td>9410.000000</td>\n",
       "      <td>4820.000000</td>\n",
       "      <td>2015.000000</td>\n",
       "      <td>2015.000000</td>\n",
       "      <td>98199.000000</td>\n",
       "      <td>47.777600</td>\n",
       "      <td>-121.315000</td>\n",
       "      <td>6210.000000</td>\n",
       "      <td>871200.000000</td>\n",
       "    </tr>\n",
       "  </tbody>\n",
       "</table>\n",
       "<p>8 rows × 21 columns</p>\n",
       "</div>"
      ],
      "text/plain": [
       "        Unnamed: 0            id         price      bedrooms     bathrooms  \\\n",
       "count  21613.00000  2.161300e+04  2.161300e+04  21600.000000  21603.000000   \n",
       "mean   10806.00000  4.580302e+09  5.400881e+05      3.372870      2.115736   \n",
       "std     6239.28002  2.876566e+09  3.671272e+05      0.926657      0.768996   \n",
       "min        0.00000  1.000102e+06  7.500000e+04      1.000000      0.500000   \n",
       "25%     5403.00000  2.123049e+09  3.219500e+05      3.000000      1.750000   \n",
       "50%    10806.00000  3.904930e+09  4.500000e+05      3.000000      2.250000   \n",
       "75%    16209.00000  7.308900e+09  6.450000e+05      4.000000      2.500000   \n",
       "max    21612.00000  9.900000e+09  7.700000e+06     33.000000      8.000000   \n",
       "\n",
       "        sqft_living      sqft_lot        floors    waterfront          view  \\\n",
       "count  21613.000000  2.161300e+04  21613.000000  21613.000000  21613.000000   \n",
       "mean    2079.899736  1.510697e+04      1.494309      0.007542      0.234303   \n",
       "std      918.440897  4.142051e+04      0.539989      0.086517      0.766318   \n",
       "min      290.000000  5.200000e+02      1.000000      0.000000      0.000000   \n",
       "25%     1427.000000  5.040000e+03      1.000000      0.000000      0.000000   \n",
       "50%     1910.000000  7.618000e+03      1.500000      0.000000      0.000000   \n",
       "75%     2550.000000  1.068800e+04      2.000000      0.000000      0.000000   \n",
       "max    13540.000000  1.651359e+06      3.500000      1.000000      4.000000   \n",
       "\n",
       "       ...         grade    sqft_above  sqft_basement      yr_built  \\\n",
       "count  ...  21613.000000  21613.000000   21613.000000  21613.000000   \n",
       "mean   ...      7.656873   1788.390691     291.509045   1971.005136   \n",
       "std    ...      1.175459    828.090978     442.575043     29.373411   \n",
       "min    ...      1.000000    290.000000       0.000000   1900.000000   \n",
       "25%    ...      7.000000   1190.000000       0.000000   1951.000000   \n",
       "50%    ...      7.000000   1560.000000       0.000000   1975.000000   \n",
       "75%    ...      8.000000   2210.000000     560.000000   1997.000000   \n",
       "max    ...     13.000000   9410.000000    4820.000000   2015.000000   \n",
       "\n",
       "       yr_renovated       zipcode           lat          long  sqft_living15  \\\n",
       "count  21613.000000  21613.000000  21613.000000  21613.000000   21613.000000   \n",
       "mean      84.402258  98077.939805     47.560053   -122.213896    1986.552492   \n",
       "std      401.679240     53.505026      0.138564      0.140828     685.391304   \n",
       "min        0.000000  98001.000000     47.155900   -122.519000     399.000000   \n",
       "25%        0.000000  98033.000000     47.471000   -122.328000    1490.000000   \n",
       "50%        0.000000  98065.000000     47.571800   -122.230000    1840.000000   \n",
       "75%        0.000000  98118.000000     47.678000   -122.125000    2360.000000   \n",
       "max     2015.000000  98199.000000     47.777600   -121.315000    6210.000000   \n",
       "\n",
       "          sqft_lot15  \n",
       "count   21613.000000  \n",
       "mean    12768.455652  \n",
       "std     27304.179631  \n",
       "min       651.000000  \n",
       "25%      5100.000000  \n",
       "50%      7620.000000  \n",
       "75%     10083.000000  \n",
       "max    871200.000000  \n",
       "\n",
       "[8 rows x 21 columns]"
      ]
     },
     "execution_count": 6,
     "metadata": {},
     "output_type": "execute_result"
    }
   ],
   "source": [
    "#Get a summary of the whole data\n",
    "df.describe()"
   ]
  },
  {
   "cell_type": "markdown",
   "id": "d14edeb9",
   "metadata": {
    "papermill": {
     "duration": 0.008119,
     "end_time": "2023-10-10T09:06:21.233948",
     "exception": false,
     "start_time": "2023-10-10T09:06:21.225829",
     "status": "completed"
    },
    "tags": []
   },
   "source": [
    "### PART 2: DATA WRANGLING"
   ]
  },
  {
   "cell_type": "markdown",
   "id": "db109483",
   "metadata": {
    "papermill": {
     "duration": 0.007974,
     "end_time": "2023-10-10T09:06:21.250485",
     "exception": false,
     "start_time": "2023-10-10T09:06:21.242511",
     "status": "completed"
    },
    "tags": []
   },
   "source": [
    "It is done to replace and drop values or change data types. "
   ]
  },
  {
   "cell_type": "code",
   "execution_count": 7,
   "id": "c9d7b774",
   "metadata": {
    "execution": {
     "iopub.execute_input": "2023-10-10T09:06:21.270154Z",
     "iopub.status.busy": "2023-10-10T09:06:21.269272Z",
     "iopub.status.idle": "2023-10-10T09:06:21.279589Z",
     "shell.execute_reply": "2023-10-10T09:06:21.278812Z"
    },
    "papermill": {
     "duration": 0.023024,
     "end_time": "2023-10-10T09:06:21.282053",
     "exception": false,
     "start_time": "2023-10-10T09:06:21.259029",
     "status": "completed"
    },
    "tags": []
   },
   "outputs": [],
   "source": [
    "#Dropping id and Unnamed:0 column\n",
    "df.drop(['id', 'Unnamed: 0'], axis = 1, inplace= True)"
   ]
  },
  {
   "cell_type": "code",
   "execution_count": 8,
   "id": "95acc6f1",
   "metadata": {
    "execution": {
     "iopub.execute_input": "2023-10-10T09:06:21.301249Z",
     "iopub.status.busy": "2023-10-10T09:06:21.299976Z",
     "iopub.status.idle": "2023-10-10T09:06:21.371692Z",
     "shell.execute_reply": "2023-10-10T09:06:21.370644Z"
    },
    "papermill": {
     "duration": 0.083912,
     "end_time": "2023-10-10T09:06:21.374358",
     "exception": false,
     "start_time": "2023-10-10T09:06:21.290446",
     "status": "completed"
    },
    "tags": []
   },
   "outputs": [
    {
     "data": {
      "text/html": [
       "<div>\n",
       "<style scoped>\n",
       "    .dataframe tbody tr th:only-of-type {\n",
       "        vertical-align: middle;\n",
       "    }\n",
       "\n",
       "    .dataframe tbody tr th {\n",
       "        vertical-align: top;\n",
       "    }\n",
       "\n",
       "    .dataframe thead th {\n",
       "        text-align: right;\n",
       "    }\n",
       "</style>\n",
       "<table border=\"1\" class=\"dataframe\">\n",
       "  <thead>\n",
       "    <tr style=\"text-align: right;\">\n",
       "      <th></th>\n",
       "      <th>price</th>\n",
       "      <th>bedrooms</th>\n",
       "      <th>bathrooms</th>\n",
       "      <th>sqft_living</th>\n",
       "      <th>sqft_lot</th>\n",
       "      <th>floors</th>\n",
       "      <th>waterfront</th>\n",
       "      <th>view</th>\n",
       "      <th>condition</th>\n",
       "      <th>grade</th>\n",
       "      <th>sqft_above</th>\n",
       "      <th>sqft_basement</th>\n",
       "      <th>yr_built</th>\n",
       "      <th>yr_renovated</th>\n",
       "      <th>zipcode</th>\n",
       "      <th>lat</th>\n",
       "      <th>long</th>\n",
       "      <th>sqft_living15</th>\n",
       "      <th>sqft_lot15</th>\n",
       "    </tr>\n",
       "  </thead>\n",
       "  <tbody>\n",
       "    <tr>\n",
       "      <th>count</th>\n",
       "      <td>2.161300e+04</td>\n",
       "      <td>21600.000000</td>\n",
       "      <td>21603.000000</td>\n",
       "      <td>21613.000000</td>\n",
       "      <td>2.161300e+04</td>\n",
       "      <td>21613.000000</td>\n",
       "      <td>21613.000000</td>\n",
       "      <td>21613.000000</td>\n",
       "      <td>21613.000000</td>\n",
       "      <td>21613.000000</td>\n",
       "      <td>21613.000000</td>\n",
       "      <td>21613.000000</td>\n",
       "      <td>21613.000000</td>\n",
       "      <td>21613.000000</td>\n",
       "      <td>21613.000000</td>\n",
       "      <td>21613.000000</td>\n",
       "      <td>21613.000000</td>\n",
       "      <td>21613.000000</td>\n",
       "      <td>21613.000000</td>\n",
       "    </tr>\n",
       "    <tr>\n",
       "      <th>mean</th>\n",
       "      <td>5.400881e+05</td>\n",
       "      <td>3.372870</td>\n",
       "      <td>2.115736</td>\n",
       "      <td>2079.899736</td>\n",
       "      <td>1.510697e+04</td>\n",
       "      <td>1.494309</td>\n",
       "      <td>0.007542</td>\n",
       "      <td>0.234303</td>\n",
       "      <td>3.409430</td>\n",
       "      <td>7.656873</td>\n",
       "      <td>1788.390691</td>\n",
       "      <td>291.509045</td>\n",
       "      <td>1971.005136</td>\n",
       "      <td>84.402258</td>\n",
       "      <td>98077.939805</td>\n",
       "      <td>47.560053</td>\n",
       "      <td>-122.213896</td>\n",
       "      <td>1986.552492</td>\n",
       "      <td>12768.455652</td>\n",
       "    </tr>\n",
       "    <tr>\n",
       "      <th>std</th>\n",
       "      <td>3.671272e+05</td>\n",
       "      <td>0.926657</td>\n",
       "      <td>0.768996</td>\n",
       "      <td>918.440897</td>\n",
       "      <td>4.142051e+04</td>\n",
       "      <td>0.539989</td>\n",
       "      <td>0.086517</td>\n",
       "      <td>0.766318</td>\n",
       "      <td>0.650743</td>\n",
       "      <td>1.175459</td>\n",
       "      <td>828.090978</td>\n",
       "      <td>442.575043</td>\n",
       "      <td>29.373411</td>\n",
       "      <td>401.679240</td>\n",
       "      <td>53.505026</td>\n",
       "      <td>0.138564</td>\n",
       "      <td>0.140828</td>\n",
       "      <td>685.391304</td>\n",
       "      <td>27304.179631</td>\n",
       "    </tr>\n",
       "    <tr>\n",
       "      <th>min</th>\n",
       "      <td>7.500000e+04</td>\n",
       "      <td>1.000000</td>\n",
       "      <td>0.500000</td>\n",
       "      <td>290.000000</td>\n",
       "      <td>5.200000e+02</td>\n",
       "      <td>1.000000</td>\n",
       "      <td>0.000000</td>\n",
       "      <td>0.000000</td>\n",
       "      <td>1.000000</td>\n",
       "      <td>1.000000</td>\n",
       "      <td>290.000000</td>\n",
       "      <td>0.000000</td>\n",
       "      <td>1900.000000</td>\n",
       "      <td>0.000000</td>\n",
       "      <td>98001.000000</td>\n",
       "      <td>47.155900</td>\n",
       "      <td>-122.519000</td>\n",
       "      <td>399.000000</td>\n",
       "      <td>651.000000</td>\n",
       "    </tr>\n",
       "    <tr>\n",
       "      <th>25%</th>\n",
       "      <td>3.219500e+05</td>\n",
       "      <td>3.000000</td>\n",
       "      <td>1.750000</td>\n",
       "      <td>1427.000000</td>\n",
       "      <td>5.040000e+03</td>\n",
       "      <td>1.000000</td>\n",
       "      <td>0.000000</td>\n",
       "      <td>0.000000</td>\n",
       "      <td>3.000000</td>\n",
       "      <td>7.000000</td>\n",
       "      <td>1190.000000</td>\n",
       "      <td>0.000000</td>\n",
       "      <td>1951.000000</td>\n",
       "      <td>0.000000</td>\n",
       "      <td>98033.000000</td>\n",
       "      <td>47.471000</td>\n",
       "      <td>-122.328000</td>\n",
       "      <td>1490.000000</td>\n",
       "      <td>5100.000000</td>\n",
       "    </tr>\n",
       "    <tr>\n",
       "      <th>50%</th>\n",
       "      <td>4.500000e+05</td>\n",
       "      <td>3.000000</td>\n",
       "      <td>2.250000</td>\n",
       "      <td>1910.000000</td>\n",
       "      <td>7.618000e+03</td>\n",
       "      <td>1.500000</td>\n",
       "      <td>0.000000</td>\n",
       "      <td>0.000000</td>\n",
       "      <td>3.000000</td>\n",
       "      <td>7.000000</td>\n",
       "      <td>1560.000000</td>\n",
       "      <td>0.000000</td>\n",
       "      <td>1975.000000</td>\n",
       "      <td>0.000000</td>\n",
       "      <td>98065.000000</td>\n",
       "      <td>47.571800</td>\n",
       "      <td>-122.230000</td>\n",
       "      <td>1840.000000</td>\n",
       "      <td>7620.000000</td>\n",
       "    </tr>\n",
       "    <tr>\n",
       "      <th>75%</th>\n",
       "      <td>6.450000e+05</td>\n",
       "      <td>4.000000</td>\n",
       "      <td>2.500000</td>\n",
       "      <td>2550.000000</td>\n",
       "      <td>1.068800e+04</td>\n",
       "      <td>2.000000</td>\n",
       "      <td>0.000000</td>\n",
       "      <td>0.000000</td>\n",
       "      <td>4.000000</td>\n",
       "      <td>8.000000</td>\n",
       "      <td>2210.000000</td>\n",
       "      <td>560.000000</td>\n",
       "      <td>1997.000000</td>\n",
       "      <td>0.000000</td>\n",
       "      <td>98118.000000</td>\n",
       "      <td>47.678000</td>\n",
       "      <td>-122.125000</td>\n",
       "      <td>2360.000000</td>\n",
       "      <td>10083.000000</td>\n",
       "    </tr>\n",
       "    <tr>\n",
       "      <th>max</th>\n",
       "      <td>7.700000e+06</td>\n",
       "      <td>33.000000</td>\n",
       "      <td>8.000000</td>\n",
       "      <td>13540.000000</td>\n",
       "      <td>1.651359e+06</td>\n",
       "      <td>3.500000</td>\n",
       "      <td>1.000000</td>\n",
       "      <td>4.000000</td>\n",
       "      <td>5.000000</td>\n",
       "      <td>13.000000</td>\n",
       "      <td>9410.000000</td>\n",
       "      <td>4820.000000</td>\n",
       "      <td>2015.000000</td>\n",
       "      <td>2015.000000</td>\n",
       "      <td>98199.000000</td>\n",
       "      <td>47.777600</td>\n",
       "      <td>-121.315000</td>\n",
       "      <td>6210.000000</td>\n",
       "      <td>871200.000000</td>\n",
       "    </tr>\n",
       "  </tbody>\n",
       "</table>\n",
       "</div>"
      ],
      "text/plain": [
       "              price      bedrooms     bathrooms   sqft_living      sqft_lot  \\\n",
       "count  2.161300e+04  21600.000000  21603.000000  21613.000000  2.161300e+04   \n",
       "mean   5.400881e+05      3.372870      2.115736   2079.899736  1.510697e+04   \n",
       "std    3.671272e+05      0.926657      0.768996    918.440897  4.142051e+04   \n",
       "min    7.500000e+04      1.000000      0.500000    290.000000  5.200000e+02   \n",
       "25%    3.219500e+05      3.000000      1.750000   1427.000000  5.040000e+03   \n",
       "50%    4.500000e+05      3.000000      2.250000   1910.000000  7.618000e+03   \n",
       "75%    6.450000e+05      4.000000      2.500000   2550.000000  1.068800e+04   \n",
       "max    7.700000e+06     33.000000      8.000000  13540.000000  1.651359e+06   \n",
       "\n",
       "             floors    waterfront          view     condition         grade  \\\n",
       "count  21613.000000  21613.000000  21613.000000  21613.000000  21613.000000   \n",
       "mean       1.494309      0.007542      0.234303      3.409430      7.656873   \n",
       "std        0.539989      0.086517      0.766318      0.650743      1.175459   \n",
       "min        1.000000      0.000000      0.000000      1.000000      1.000000   \n",
       "25%        1.000000      0.000000      0.000000      3.000000      7.000000   \n",
       "50%        1.500000      0.000000      0.000000      3.000000      7.000000   \n",
       "75%        2.000000      0.000000      0.000000      4.000000      8.000000   \n",
       "max        3.500000      1.000000      4.000000      5.000000     13.000000   \n",
       "\n",
       "         sqft_above  sqft_basement      yr_built  yr_renovated       zipcode  \\\n",
       "count  21613.000000   21613.000000  21613.000000  21613.000000  21613.000000   \n",
       "mean    1788.390691     291.509045   1971.005136     84.402258  98077.939805   \n",
       "std      828.090978     442.575043     29.373411    401.679240     53.505026   \n",
       "min      290.000000       0.000000   1900.000000      0.000000  98001.000000   \n",
       "25%     1190.000000       0.000000   1951.000000      0.000000  98033.000000   \n",
       "50%     1560.000000       0.000000   1975.000000      0.000000  98065.000000   \n",
       "75%     2210.000000     560.000000   1997.000000      0.000000  98118.000000   \n",
       "max     9410.000000    4820.000000   2015.000000   2015.000000  98199.000000   \n",
       "\n",
       "                lat          long  sqft_living15     sqft_lot15  \n",
       "count  21613.000000  21613.000000   21613.000000   21613.000000  \n",
       "mean      47.560053   -122.213896    1986.552492   12768.455652  \n",
       "std        0.138564      0.140828     685.391304   27304.179631  \n",
       "min       47.155900   -122.519000     399.000000     651.000000  \n",
       "25%       47.471000   -122.328000    1490.000000    5100.000000  \n",
       "50%       47.571800   -122.230000    1840.000000    7620.000000  \n",
       "75%       47.678000   -122.125000    2360.000000   10083.000000  \n",
       "max       47.777600   -121.315000    6210.000000  871200.000000  "
      ]
     },
     "execution_count": 8,
     "metadata": {},
     "output_type": "execute_result"
    }
   ],
   "source": [
    "#Get summary of the data after values are dropped\n",
    "df.describe()"
   ]
  },
  {
   "cell_type": "markdown",
   "id": "1b043871",
   "metadata": {
    "papermill": {
     "duration": 0.007938,
     "end_time": "2023-10-10T09:06:21.390771",
     "exception": false,
     "start_time": "2023-10-10T09:06:21.382833",
     "status": "completed"
    },
    "tags": []
   },
   "source": [
    "After this, one must look for Null values in the data set."
   ]
  },
  {
   "cell_type": "code",
   "execution_count": 9,
   "id": "00039cfc",
   "metadata": {
    "execution": {
     "iopub.execute_input": "2023-10-10T09:06:21.409216Z",
     "iopub.status.busy": "2023-10-10T09:06:21.408258Z",
     "iopub.status.idle": "2023-10-10T09:06:21.416085Z",
     "shell.execute_reply": "2023-10-10T09:06:21.414609Z"
    },
    "papermill": {
     "duration": 0.019124,
     "end_time": "2023-10-10T09:06:21.418011",
     "exception": false,
     "start_time": "2023-10-10T09:06:21.398887",
     "status": "completed"
    },
    "tags": []
   },
   "outputs": [
    {
     "name": "stdout",
     "output_type": "stream",
     "text": [
      "Number of null values in bathrooms: 10\n",
      "Number of null values in bedrooms: 13\n"
     ]
    }
   ],
   "source": [
    "#count null values in Bedroom and Bathroom\n",
    "print('Number of null values in bathrooms:',df['bathrooms'].isnull().sum())\n",
    "print('Number of null values in bedrooms:',df['bedrooms'].isnull().sum())"
   ]
  },
  {
   "cell_type": "code",
   "execution_count": 10,
   "id": "a013efe5",
   "metadata": {
    "execution": {
     "iopub.execute_input": "2023-10-10T09:06:21.436479Z",
     "iopub.status.busy": "2023-10-10T09:06:21.436040Z",
     "iopub.status.idle": "2023-10-10T09:06:21.447143Z",
     "shell.execute_reply": "2023-10-10T09:06:21.446257Z"
    },
    "papermill": {
     "duration": 0.022768,
     "end_time": "2023-10-10T09:06:21.449012",
     "exception": false,
     "start_time": "2023-10-10T09:06:21.426244",
     "status": "completed"
    },
    "tags": []
   },
   "outputs": [
    {
     "data": {
      "text/plain": [
       "0        3.0\n",
       "1        3.0\n",
       "2        2.0\n",
       "3        4.0\n",
       "4        3.0\n",
       "        ... \n",
       "21608    3.0\n",
       "21609    4.0\n",
       "21610    2.0\n",
       "21611    3.0\n",
       "21612    2.0\n",
       "Name: bedrooms, Length: 21613, dtype: float64"
      ]
     },
     "execution_count": 10,
     "metadata": {},
     "output_type": "execute_result"
    }
   ],
   "source": [
    "mean = df['bedrooms'].mean()\n",
    "df['bedrooms'].replace(np.nan, mean, inplace = True)\n",
    "df['bedrooms']"
   ]
  },
  {
   "cell_type": "code",
   "execution_count": 11,
   "id": "58e31b1a",
   "metadata": {
    "execution": {
     "iopub.execute_input": "2023-10-10T09:06:21.467780Z",
     "iopub.status.busy": "2023-10-10T09:06:21.467290Z",
     "iopub.status.idle": "2023-10-10T09:06:21.478517Z",
     "shell.execute_reply": "2023-10-10T09:06:21.477606Z"
    },
    "papermill": {
     "duration": 0.023377,
     "end_time": "2023-10-10T09:06:21.480719",
     "exception": false,
     "start_time": "2023-10-10T09:06:21.457342",
     "status": "completed"
    },
    "tags": []
   },
   "outputs": [
    {
     "data": {
      "text/plain": [
       "0        1.00\n",
       "1        2.25\n",
       "2        1.00\n",
       "3        3.00\n",
       "4        2.00\n",
       "         ... \n",
       "21608    2.50\n",
       "21609    2.50\n",
       "21610    0.75\n",
       "21611    2.50\n",
       "21612    0.75\n",
       "Name: bathrooms, Length: 21613, dtype: float64"
      ]
     },
     "execution_count": 11,
     "metadata": {},
     "output_type": "execute_result"
    }
   ],
   "source": [
    "#Replace null values of bathrooms with mean\n",
    "mean = df['bathrooms'].mean()\n",
    "df['bathrooms'].replace(np.nan, mean, inplace = True)\n",
    "df['bathrooms']"
   ]
  },
  {
   "cell_type": "markdown",
   "id": "4d1fbfcc",
   "metadata": {
    "papermill": {
     "duration": 0.008428,
     "end_time": "2023-10-10T09:06:21.498255",
     "exception": false,
     "start_time": "2023-10-10T09:06:21.489827",
     "status": "completed"
    },
    "tags": []
   },
   "source": [
    "### Part 3: Exploratory Data Analysis"
   ]
  },
  {
   "cell_type": "markdown",
   "id": "843b8543",
   "metadata": {
    "papermill": {
     "duration": 0.008186,
     "end_time": "2023-10-10T09:06:21.515153",
     "exception": false,
     "start_time": "2023-10-10T09:06:21.506967",
     "status": "completed"
    },
    "tags": []
   },
   "source": [
    "To see categorize in data and divide data into groups to make data analysis easier."
   ]
  },
  {
   "cell_type": "code",
   "execution_count": 12,
   "id": "9f5dfb01",
   "metadata": {
    "execution": {
     "iopub.execute_input": "2023-10-10T09:06:21.534830Z",
     "iopub.status.busy": "2023-10-10T09:06:21.534098Z",
     "iopub.status.idle": "2023-10-10T09:06:21.546010Z",
     "shell.execute_reply": "2023-10-10T09:06:21.544674Z"
    },
    "papermill": {
     "duration": 0.024496,
     "end_time": "2023-10-10T09:06:21.548347",
     "exception": false,
     "start_time": "2023-10-10T09:06:21.523851",
     "status": "completed"
    },
    "tags": []
   },
   "outputs": [
    {
     "name": "stdout",
     "output_type": "stream",
     "text": [
      "        count\n",
      "floors       \n",
      "1.0     10680\n",
      "2.0      8241\n",
      "1.5      1910\n",
      "3.0       613\n",
      "2.5       161\n",
      "3.5         8\n"
     ]
    }
   ],
   "source": [
    "#Find the freq of each unique value in a certain column\n",
    "value_counts = df['floors'].value_counts()\n",
    "#View as a data frame\n",
    "value_counts_df = value_counts.to_frame()\n",
    "#See the frequency\n",
    "print(value_counts_df)\n"
   ]
  },
  {
   "cell_type": "code",
   "execution_count": 13,
   "id": "a034ba62",
   "metadata": {
    "execution": {
     "iopub.execute_input": "2023-10-10T09:06:21.567392Z",
     "iopub.status.busy": "2023-10-10T09:06:21.566945Z",
     "iopub.status.idle": "2023-10-10T09:06:21.575342Z",
     "shell.execute_reply": "2023-10-10T09:06:21.573943Z"
    },
    "papermill": {
     "duration": 0.020693,
     "end_time": "2023-10-10T09:06:21.577571",
     "exception": false,
     "start_time": "2023-10-10T09:06:21.556878",
     "status": "completed"
    },
    "tags": []
   },
   "outputs": [
    {
     "data": {
      "text/plain": [
       "374    0\n",
       "375    0\n",
       "376    0\n",
       "377    0\n",
       "378    0\n",
       "379    0\n",
       "Name: waterfront, dtype: int64"
      ]
     },
     "execution_count": 13,
     "metadata": {},
     "output_type": "execute_result"
    }
   ],
   "source": [
    "df['waterfront'][374:380]"
   ]
  },
  {
   "cell_type": "code",
   "execution_count": 14,
   "id": "10cbff34",
   "metadata": {
    "execution": {
     "iopub.execute_input": "2023-10-10T09:06:21.598203Z",
     "iopub.status.busy": "2023-10-10T09:06:21.597843Z",
     "iopub.status.idle": "2023-10-10T09:06:21.609873Z",
     "shell.execute_reply": "2023-10-10T09:06:21.608563Z"
    },
    "papermill": {
     "duration": 0.025301,
     "end_time": "2023-10-10T09:06:21.612288",
     "exception": false,
     "start_time": "2023-10-10T09:06:21.586987",
     "status": "completed"
    },
    "tags": []
   },
   "outputs": [
    {
     "data": {
      "text/plain": [
       "163"
      ]
     },
     "execution_count": 14,
     "metadata": {},
     "output_type": "execute_result"
    }
   ],
   "source": [
    "count = df['waterfront'].value_counts().get(1, 0)\n",
    "count"
   ]
  },
  {
   "cell_type": "code",
   "execution_count": 15,
   "id": "f7bb8e25",
   "metadata": {
    "execution": {
     "iopub.execute_input": "2023-10-10T09:06:21.633624Z",
     "iopub.status.busy": "2023-10-10T09:06:21.633242Z",
     "iopub.status.idle": "2023-10-10T09:06:22.072686Z",
     "shell.execute_reply": "2023-10-10T09:06:22.071036Z"
    },
    "papermill": {
     "duration": 0.453164,
     "end_time": "2023-10-10T09:06:22.075528",
     "exception": false,
     "start_time": "2023-10-10T09:06:21.622364",
     "status": "completed"
    },
    "tags": []
   },
   "outputs": [
    {
     "data": {
      "text/plain": [
       "<function matplotlib.pyplot.show(close=None, block=None)>"
      ]
     },
     "execution_count": 15,
     "metadata": {},
     "output_type": "execute_result"
    },
    {
     "data": {
      "image/png": "[encoded data removed]",
      "text/plain": [
       "<Figure size 640x480 with 1 Axes>"
      ]
     },
     "metadata": {},
     "output_type": "display_data"
    }
   ],
   "source": [
    "#To see impact of presence of waterfront in house on price - box plot\n",
    "import seaborn as sns \n",
    "import matplotlib.pyplot as plt\n",
    "#use seaborn for boxplot\n",
    "sns.boxplot(x = 'waterfront', y = 'price', data = df)\n",
    "#Provide labels using plt\n",
    "plt.xlabel('Waterfront')\n",
    "plt.ylabel('Price')\n",
    "plt.title('BOX PLOT - With and Without Waterfront house vs Price')\n",
    "\n",
    "#Display\n",
    "plt.show"
   ]
  },
  {
   "cell_type": "markdown",
   "id": "e7412187",
   "metadata": {
    "papermill": {
     "duration": 0.009212,
     "end_time": "2023-10-10T09:06:22.094689",
     "exception": false,
     "start_time": "2023-10-10T09:06:22.085477",
     "status": "completed"
    },
    "tags": []
   },
   "source": [
    "To find relationship between Continuous Variables- Regression Plot"
   ]
  },
  {
   "cell_type": "code",
   "execution_count": 16,
   "id": "fecc38d5",
   "metadata": {
    "execution": {
     "iopub.execute_input": "2023-10-10T09:06:22.213905Z",
     "iopub.status.busy": "2023-10-10T09:06:22.212499Z",
     "iopub.status.idle": "2023-10-10T09:06:23.974775Z",
     "shell.execute_reply": "2023-10-10T09:06:23.973652Z"
    },
    "papermill": {
     "duration": 1.776843,
     "end_time": "2023-10-10T09:06:23.977210",
     "exception": false,
     "start_time": "2023-10-10T09:06:22.200367",
     "status": "completed"
    },
    "tags": []
   },
   "outputs": [
    {
     "data": {
      "text/plain": [
       "<function matplotlib.pyplot.show(close=None, block=None)>"
      ]
     },
     "execution_count": 16,
     "metadata": {},
     "output_type": "execute_result"
    },
    {
     "data": {
      "image/png": "[encoded data removed]",
      "text/plain": [
       "<Figure size 640x480 with 1 Axes>"
      ]
     },
     "metadata": {},
     "output_type": "display_data"
    }
   ],
   "source": [
    "#Regression plot between area of house and price\n",
    "sns.regplot(x = 'sqft_above', y ='price', data = df)\n",
    "#Provide labels\n",
    "plt.xlabel('Area(sqft)')\n",
    "plt.ylabel('Price')\n",
    "plt.title('Area of house vs Price')\n",
    "#View plot\n",
    "plt.show"
   ]
  },
  {
   "cell_type": "markdown",
   "id": "7db4ba2b",
   "metadata": {
    "papermill": {
     "duration": 0.010089,
     "end_time": "2023-10-10T09:06:23.998105",
     "exception": false,
     "start_time": "2023-10-10T09:06:23.988016",
     "status": "completed"
    },
    "tags": []
   },
   "source": [
    "### PART 4: MODEL DEVELOPMENT\n"
   ]
  },
  {
   "cell_type": "code",
   "execution_count": 17,
   "id": "a95b28b8",
   "metadata": {
    "execution": {
     "iopub.execute_input": "2023-10-10T09:06:24.021624Z",
     "iopub.status.busy": "2023-10-10T09:06:24.020473Z",
     "iopub.status.idle": "2023-10-10T09:06:24.030390Z",
     "shell.execute_reply": "2023-10-10T09:06:24.029000Z"
    },
    "papermill": {
     "duration": 0.024078,
     "end_time": "2023-10-10T09:06:24.032748",
     "exception": false,
     "start_time": "2023-10-10T09:06:24.008670",
     "status": "completed"
    },
    "tags": []
   },
   "outputs": [
    {
     "data": {
      "text/plain": [
       "0       -122.257\n",
       "1       -122.319\n",
       "2       -122.233\n",
       "3       -122.393\n",
       "4       -122.045\n",
       "          ...   \n",
       "21608   -122.346\n",
       "21609   -122.362\n",
       "21610   -122.299\n",
       "21611   -122.069\n",
       "21612   -122.299\n",
       "Name: long, Length: 21613, dtype: float64"
      ]
     },
     "execution_count": 17,
     "metadata": {},
     "output_type": "execute_result"
    }
   ],
   "source": [
    "df['long']"
   ]
  },
  {
   "cell_type": "code",
   "execution_count": 18,
   "id": "64b75273",
   "metadata": {
    "execution": {
     "iopub.execute_input": "2023-10-10T09:06:24.055788Z",
     "iopub.status.busy": "2023-10-10T09:06:24.055409Z",
     "iopub.status.idle": "2023-10-10T09:06:24.087874Z",
     "shell.execute_reply": "2023-10-10T09:06:24.086334Z"
    },
    "papermill": {
     "duration": 0.046993,
     "end_time": "2023-10-10T09:06:24.090371",
     "exception": false,
     "start_time": "2023-10-10T09:06:24.043378",
     "status": "completed"
    },
    "tags": []
   },
   "outputs": [
    {
     "name": "stdout",
     "output_type": "stream",
     "text": [
      "R-square: 0.4928532179037931\n",
      "Predict values: [[287555.06702451]\n",
      " [677621.82640197]\n",
      " [172499.40418656]\n",
      " ...\n",
      " [242655.29616092]\n",
      " [405416.96554144]\n",
      " [242655.29616092]]\n"
     ]
    }
   ],
   "source": [
    "#Linear Regression model for prediction b/w price and sqft\n",
    "from sklearn.linear_model import LinearRegression\n",
    "#Create the model object\n",
    "lr = LinearRegression()\n",
    "#Lets fit on the data\n",
    "x = df[['sqft_living']]\n",
    "y =df[['price']]\n",
    "lr.fit(x,y)\n",
    "#Find r-square from it\n",
    "rsq = lr.score(x,y)\n",
    "#Prediction from the fit\n",
    "yhat = lr.predict(x)\n",
    "print('R-square:', rsq)\n",
    "print('Predict values:', yhat)"
   ]
  },
  {
   "cell_type": "markdown",
   "id": "8091c90e",
   "metadata": {
    "papermill": {
     "duration": 0.010409,
     "end_time": "2023-10-10T09:06:24.111405",
     "exception": false,
     "start_time": "2023-10-10T09:06:24.100996",
     "status": "completed"
    },
    "tags": []
   },
   "source": [
    "##### MULTIPLE LINEAR REGRESSION MODEL"
   ]
  },
  {
   "cell_type": "markdown",
   "id": "142bbaf0",
   "metadata": {
    "papermill": {
     "duration": 0.010634,
     "end_time": "2023-10-10T09:06:24.132683",
     "exception": false,
     "start_time": "2023-10-10T09:06:24.122049",
     "status": "completed"
    },
    "tags": []
   },
   "source": [
    "Just to see if this model rightly represents the data"
   ]
  },
  {
   "cell_type": "code",
   "execution_count": 19,
   "id": "d9a591ee",
   "metadata": {
    "execution": {
     "iopub.execute_input": "2023-10-10T09:06:24.156325Z",
     "iopub.status.busy": "2023-10-10T09:06:24.155966Z",
     "iopub.status.idle": "2023-10-10T09:06:24.161079Z",
     "shell.execute_reply": "2023-10-10T09:06:24.159755Z"
    },
    "papermill": {
     "duration": 0.019967,
     "end_time": "2023-10-10T09:06:24.163380",
     "exception": false,
     "start_time": "2023-10-10T09:06:24.143413",
     "status": "completed"
    },
    "tags": []
   },
   "outputs": [],
   "source": [
    "#Features for this model\n",
    "features = [\"floors\", \"waterfront\",\"lat\" ,\"bedrooms\" ,\"sqft_basement\" ,\"view\" ,\"bathrooms\",\"sqft_living15\",\"sqft_above\",\"grade\",\"sqft_living\"]"
   ]
  },
  {
   "cell_type": "code",
   "execution_count": 20,
   "id": "8ab3cc02",
   "metadata": {
    "execution": {
     "iopub.execute_input": "2023-10-10T09:06:24.186541Z",
     "iopub.status.busy": "2023-10-10T09:06:24.186197Z",
     "iopub.status.idle": "2023-10-10T09:06:24.259195Z",
     "shell.execute_reply": "2023-10-10T09:06:24.257512Z"
    },
    "papermill": {
     "duration": 0.089035,
     "end_time": "2023-10-10T09:06:24.263207",
     "exception": false,
     "start_time": "2023-10-10T09:06:24.174172",
     "status": "completed"
    },
    "tags": []
   },
   "outputs": [
    {
     "data": {
      "text/plain": [
       "(array([[285112.14176653],\n",
       "        [661944.14176653],\n",
       "        [309688.14176653],\n",
       "        ...,\n",
       "        [304056.14176653],\n",
       "        [428472.14176653],\n",
       "        [303800.14176653]]),\n",
       " 0.6576862276276761)"
      ]
     },
     "execution_count": 20,
     "metadata": {},
     "output_type": "execute_result"
    }
   ],
   "source": [
    "import numpy as np\n",
    "Z = df[features]\n",
    "#Lets fit this model\n",
    "lr.fit(Z, y)\n",
    "#Find r-square for it\n",
    "rsqm = lr.score(Z, y)\n",
    "#Make prediction\n",
    "predictmlr = lr.predict(Z)\n",
    "predictmlr, rsqm"
   ]
  },
  {
   "cell_type": "markdown",
   "id": "69e9b844",
   "metadata": {
    "papermill": {
     "duration": 0.043389,
     "end_time": "2023-10-10T09:06:24.353725",
     "exception": false,
     "start_time": "2023-10-10T09:06:24.310336",
     "status": "completed"
    },
    "tags": []
   },
   "source": [
    "#### PART 5: PIPELINE FOR DATA STANDARDIZATION"
   ]
  },
  {
   "cell_type": "code",
   "execution_count": 21,
   "id": "84cfb802",
   "metadata": {
    "execution": {
     "iopub.execute_input": "2023-10-10T09:06:24.384541Z",
     "iopub.status.busy": "2023-10-10T09:06:24.384158Z",
     "iopub.status.idle": "2023-10-10T09:06:24.389216Z",
     "shell.execute_reply": "2023-10-10T09:06:24.388166Z"
    },
    "papermill": {
     "duration": 0.01906,
     "end_time": "2023-10-10T09:06:24.391224",
     "exception": false,
     "start_time": "2023-10-10T09:06:24.372164",
     "status": "completed"
    },
    "tags": []
   },
   "outputs": [],
   "source": [
    "#inpute variable for pipeline - containing a tuple\n",
    "input = [('scale', StandardScaler()), ('polynomial',PolynomialFeatures(include_bias= False)), ('model', LinearRegression())]"
   ]
  },
  {
   "cell_type": "code",
   "execution_count": 22,
   "id": "31d3b27a",
   "metadata": {
    "execution": {
     "iopub.execute_input": "2023-10-10T09:06:24.414103Z",
     "iopub.status.busy": "2023-10-10T09:06:24.413769Z",
     "iopub.status.idle": "2023-10-10T09:06:24.703054Z",
     "shell.execute_reply": "2023-10-10T09:06:24.701950Z"
    },
    "papermill": {
     "duration": 0.304898,
     "end_time": "2023-10-10T09:06:24.706845",
     "exception": false,
     "start_time": "2023-10-10T09:06:24.401947",
     "status": "completed"
    },
    "tags": []
   },
   "outputs": [
    {
     "data": {
      "text/plain": [
       "array([[349639.5 ],\n",
       "       [559108.5 ],\n",
       "       [449453.25],\n",
       "       ...,\n",
       "       [417246.25],\n",
       "       [459709.75],\n",
       "       [417197.25]])"
      ]
     },
     "execution_count": 22,
     "metadata": {},
     "output_type": "execute_result"
    }
   ],
   "source": [
    "#Construct the pipeline object\n",
    "pipe = Pipeline(input)\n",
    "#Fit the object on the above data\n",
    "pipe.fit(Z,y)\n",
    "#Find r-square\n",
    "rsqp = pipe.score(Z, y)\n",
    "rsqp\n",
    "#Prediction using Z\n",
    "yhatp = pipe.predict(Z)\n",
    "yhatp\n"
   ]
  },
  {
   "cell_type": "markdown",
   "id": "81dc3f27",
   "metadata": {
    "papermill": {
     "duration": 0.030109,
     "end_time": "2023-10-10T09:06:24.767522",
     "exception": false,
     "start_time": "2023-10-10T09:06:24.737413",
     "status": "completed"
    },
    "tags": []
   },
   "source": [
    "#### PART 6: Model Evaluation and Refinement"
   ]
  },
  {
   "cell_type": "code",
   "execution_count": 23,
   "id": "e4af5104",
   "metadata": {
    "execution": {
     "iopub.execute_input": "2023-10-10T09:06:24.825528Z",
     "iopub.status.busy": "2023-10-10T09:06:24.825163Z",
     "iopub.status.idle": "2023-10-10T09:06:24.830989Z",
     "shell.execute_reply": "2023-10-10T09:06:24.829619Z"
    },
    "papermill": {
     "duration": 0.033938,
     "end_time": "2023-10-10T09:06:24.833164",
     "exception": false,
     "start_time": "2023-10-10T09:06:24.799226",
     "status": "completed"
    },
    "tags": []
   },
   "outputs": [],
   "source": [
    "#in this process we do cross validation and train test splitting of data\n",
    "from sklearn.model_selection import cross_val_score\n",
    "from sklearn.model_selection import train_test_split\n"
   ]
  },
  {
   "cell_type": "code",
   "execution_count": 24,
   "id": "8bd41998",
   "metadata": {
    "execution": {
     "iopub.execute_input": "2023-10-10T09:06:24.857444Z",
     "iopub.status.busy": "2023-10-10T09:06:24.857047Z",
     "iopub.status.idle": "2023-10-10T09:06:24.870515Z",
     "shell.execute_reply": "2023-10-10T09:06:24.868675Z"
    },
    "papermill": {
     "duration": 0.028644,
     "end_time": "2023-10-10T09:06:24.872780",
     "exception": false,
     "start_time": "2023-10-10T09:06:24.844136",
     "status": "completed"
    },
    "tags": []
   },
   "outputs": [
    {
     "name": "stdout",
     "output_type": "stream",
     "text": [
      "Number of samples in training data: 15129\n",
      "Number of samples in testing data: 6484\n"
     ]
    }
   ],
   "source": [
    "#Train test split data\n",
    "x_train, x_test, y_train, y_test = train_test_split(Z, y, test_size=0.3, random_state=1)\n",
    "#Lets see the shape of test and train sets\n",
    "print('Number of samples in training data:', x_train.shape[0])\n",
    "print('Number of samples in testing data:', x_test.shape[0])"
   ]
  },
  {
   "cell_type": "code",
   "execution_count": 25,
   "id": "cc1df403",
   "metadata": {
    "execution": {
     "iopub.execute_input": "2023-10-10T09:06:24.897633Z",
     "iopub.status.busy": "2023-10-10T09:06:24.896356Z",
     "iopub.status.idle": "2023-10-10T09:06:24.930158Z",
     "shell.execute_reply": "2023-10-10T09:06:24.928612Z"
    },
    "papermill": {
     "duration": 0.050063,
     "end_time": "2023-10-10T09:06:24.933902",
     "exception": false,
     "start_time": "2023-10-10T09:06:24.883839",
     "status": "completed"
    },
    "tags": []
   },
   "outputs": [
    {
     "data": {
      "text/html": [
       "<style>#sk-container-id-1 {color: black;background-color: white;}#sk-container-id-1 pre{padding: 0;}#sk-container-id-1 div.sk-toggleable {background-color: white;}#sk-container-id-1 label.sk-toggleable__label {cursor: pointer;display: block;width: 100%;margin-bottom: 0;padding: 0.3em;box-sizing: border-box;text-align: center;}#sk-container-id-1 label.sk-toggleable__label-arrow:before {content: \"▸\";float: left;margin-right: 0.25em;color: #696969;}#sk-container-id-1 label.sk-toggleable__label-arrow:hover:before {color: black;}#sk-container-id-1 div.sk-estimator:hover label.sk-toggleable__label-arrow:before {color: black;}#sk-container-id-1 div.sk-toggleable__content {max-height: 0;max-width: 0;overflow: hidden;text-align: left;background-color: #f0f8ff;}#sk-container-id-1 div.sk-toggleable__content pre {margin: 0.2em;color: black;border-radius: 0.25em;background-color: #f0f8ff;}#sk-container-id-1 input.sk-toggleable__control:checked~div.sk-toggleable__content {max-height: 200px;max-width: 100%;overflow: auto;}#sk-container-id-1 input.sk-toggleable__control:checked~label.sk-toggleable__label-arrow:before {content: \"▾\";}#sk-container-id-1 div.sk-estimator input.sk-toggleable__control:checked~label.sk-toggleable__label {background-color: #d4ebff;}#sk-container-id-1 div.sk-label input.sk-toggleable__control:checked~label.sk-toggleable__label {background-color: #d4ebff;}#sk-container-id-1 input.sk-hidden--visually {border: 0;clip: rect(1px 1px 1px 1px);clip: rect(1px, 1px, 1px, 1px);height: 1px;margin: -1px;overflow: hidden;padding: 0;position: absolute;width: 1px;}#sk-container-id-1 div.sk-estimator {font-family: monospace;background-color: #f0f8ff;border: 1px dotted black;border-radius: 0.25em;box-sizing: border-box;margin-bottom: 0.5em;}#sk-container-id-1 div.sk-estimator:hover {background-color: #d4ebff;}#sk-container-id-1 div.sk-parallel-item::after {content: \"\";width: 100%;border-bottom: 1px solid gray;flex-grow: 1;}#sk-container-id-1 div.sk-label:hover label.sk-toggleable__label {background-color: #d4ebff;}#sk-container-id-1 div.sk-serial::before {content: \"\";position: absolute;border-left: 1px solid gray;box-sizing: border-box;top: 0;bottom: 0;left: 50%;z-index: 0;}#sk-container-id-1 div.sk-serial {display: flex;flex-direction: column;align-items: center;background-color: white;padding-right: 0.2em;padding-left: 0.2em;position: relative;}#sk-container-id-1 div.sk-item {position: relative;z-index: 1;}#sk-container-id-1 div.sk-parallel {display: flex;align-items: stretch;justify-content: center;background-color: white;position: relative;}#sk-container-id-1 div.sk-item::before, #sk-container-id-1 div.sk-parallel-item::before {content: \"\";position: absolute;border-left: 1px solid gray;box-sizing: border-box;top: 0;bottom: 0;left: 50%;z-index: -1;}#sk-container-id-1 div.sk-parallel-item {display: flex;flex-direction: column;z-index: 1;position: relative;background-color: white;}#sk-container-id-1 div.sk-parallel-item:first-child::after {align-self: flex-end;width: 50%;}#sk-container-id-1 div.sk-parallel-item:last-child::after {align-self: flex-start;width: 50%;}#sk-container-id-1 div.sk-parallel-item:only-child::after {width: 0;}#sk-container-id-1 div.sk-dashed-wrapped {border: 1px dashed gray;margin: 0 0.4em 0.5em 0.4em;box-sizing: border-box;padding-bottom: 0.4em;background-color: white;}#sk-container-id-1 div.sk-label label {font-family: monospace;font-weight: bold;display: inline-block;line-height: 1.2em;}#sk-container-id-1 div.sk-label-container {text-align: center;}#sk-container-id-1 div.sk-container {/* jupyter's `normalize.less` sets `[hidden] { display: none; }` but bootstrap.min.css set `[hidden] { display: none !important; }` so we also need the `!important` here to be able to override the default hidden behavior on the sphinx rendered scikit-learn.org. See: https://github.com/scikit-learn/scikit-learn/issues/21755 */display: inline-block !important;position: relative;}#sk-container-id-1 div.sk-text-repr-fallback {display: none;}</style><div id=\"sk-container-id-1\" class=\"sk-top-container\"><div class=\"sk-text-repr-fallback\"><pre>Ridge(alpha=0.1)</pre><b>In a Jupyter environment, please rerun this cell to show the HTML representation or trust the notebook. <br />On GitHub, the HTML representation is unable to render, please try loading this page with nbviewer.org.</b></div><div class=\"sk-container\" hidden><div class=\"sk-item\"><div class=\"sk-estimator sk-toggleable\"><input class=\"sk-toggleable__control sk-hidden--visually\" id=\"sk-estimator-id-1\" type=\"checkbox\" checked><label for=\"sk-estimator-id-1\" class=\"sk-toggleable__label sk-toggleable__label-arrow\">Ridge</label><div class=\"sk-toggleable__content\"><pre>Ridge(alpha=0.1)</pre></div></div></div></div></div>"
      ],
      "text/plain": [
       "Ridge(alpha=0.1)"
      ]
     },
     "execution_count": 25,
     "metadata": {},
     "output_type": "execute_result"
    }
   ],
   "source": [
    "#Ridge Regression object\n",
    "from sklearn.linear_model import Ridge\n",
    "RR = Ridge(alpha=0.1)\n",
    "#Fit the model \n",
    "RR.fit(x_train, y_train)"
   ]
  },
  {
   "cell_type": "code",
   "execution_count": 26,
   "id": "46b37a7b",
   "metadata": {
    "execution": {
     "iopub.execute_input": "2023-10-10T09:06:25.002017Z",
     "iopub.status.busy": "2023-10-10T09:06:24.999919Z",
     "iopub.status.idle": "2023-10-10T09:06:25.025914Z",
     "shell.execute_reply": "2023-10-10T09:06:25.024388Z"
    },
    "papermill": {
     "duration": 0.065549,
     "end_time": "2023-10-10T09:06:25.030643",
     "exception": false,
     "start_time": "2023-10-10T09:06:24.965094",
     "status": "completed"
    },
    "tags": []
   },
   "outputs": [
    {
     "data": {
      "text/plain": [
       "0.6504384355990995"
      ]
     },
     "execution_count": 26,
     "metadata": {},
     "output_type": "execute_result"
    }
   ],
   "source": [
    "#Find R-square\n",
    "rsqr = RR.score(x_test, y_test)\n",
    "rsqr"
   ]
  },
  {
   "cell_type": "code",
   "execution_count": 27,
   "id": "bdb6e8d7",
   "metadata": {
    "execution": {
     "iopub.execute_input": "2023-10-10T09:06:25.098346Z",
     "iopub.status.busy": "2023-10-10T09:06:25.097560Z",
     "iopub.status.idle": "2023-10-10T09:06:25.352627Z",
     "shell.execute_reply": "2023-10-10T09:06:25.351145Z"
    },
    "papermill": {
     "duration": 0.294305,
     "end_time": "2023-10-10T09:06:25.357849",
     "exception": false,
     "start_time": "2023-10-10T09:06:25.063544",
     "status": "completed"
    },
    "tags": []
   },
   "outputs": [
    {
     "data": {
      "text/plain": [
       "0.7475790301534717"
      ]
     },
     "execution_count": 27,
     "metadata": {},
     "output_type": "execute_result"
    }
   ],
   "source": [
    "#Ridge regression for 2nd order Polynomial\n",
    "poly = PolynomialFeatures(degree=2)\n",
    "X_train_poly = poly.fit_transform(x_train)\n",
    "X_test_poly = poly.transform(x_test)\n",
    "\n",
    "# Create and fit a Ridge regression object\n",
    "ridge_model = Ridge(alpha=0.05)\n",
    "ridge_model.fit(X_train_poly, y_train)\n",
    "\n",
    "# Predict the target variable using the fitted Ridge model\n",
    "predicted_prices = ridge_model.predict(X_test_poly)\n",
    "\n",
    "# Calculate the R-squared value\n",
    "r2 = ridge_model.score(X_test_poly, y_test)\n",
    "r2"
   ]
  }
 ],
 "metadata": {
  "kernelspec": {
   "display_name": "Python 3",
   "language": "python",
   "name": "python3"
  },
  "language_info": {
   "codemirror_mode": {
    "name": "ipython",
    "version": 3
   },
   "file_extension": ".py",
   "mimetype": "text/x-python",
   "name": "python",
   "nbconvert_exporter": "python",
   "pygments_lexer": "ipython3",
   "version": "3.10.12"
  },
  "papermill": {
   "default_parameters": {},
   "duration": 13.11729,
   "end_time": "2023-10-10T09:06:26.323086",
   "environment_variables": {},
   "exception": null,
   "input_path": "__notebook__.ipynb",
   "output_path": "__notebook__.ipynb",
   "parameters": {},
   "start_time": "2023-10-10T09:06:13.205796",
   "version": "2.4.0"
  }
 },
 "nbformat": 4,
 "nbformat_minor": 5
}
